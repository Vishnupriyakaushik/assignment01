{
 "cells": [
  {
   "cell_type": "code",
   "execution_count": null,
   "id": "860d1611-de59-427f-a4ec-a2c887bcdf5e",
   "metadata": {},
   "outputs": [],
   "source": [
    "Q1. Explain with an example each when to use a for loop and a while loop."
   ]
  },
  {
   "cell_type": "code",
   "execution_count": null,
   "id": "4056d4cf-3d28-471b-804f-a57b1aa87944",
   "metadata": {},
   "outputs": [],
   "source": [
    "A for loop is useful when you need to iterate over a collection of items or perform an operation for a fixed number of times.\n",
    "It is a great choice when you know the exact number of iterations you need to perform,\n",
    "and the starting and ending points of the loop are well-defined. \n",
    "Here's an example of a for loop:  "
   ]
  },
  {
   "cell_type": "code",
   "execution_count": 2,
   "id": "55f7a96c-f575-4dcf-b214-92dbfde7acf0",
   "metadata": {},
   "outputs": [
    {
     "name": "stdout",
     "output_type": "stream",
     "text": [
      "0\n",
      "1\n",
      "2\n",
      "3\n",
      "4\n",
      "5\n",
      "6\n",
      "7\n",
      "8\n",
      "9\n"
     ]
    }
   ],
   "source": [
    "for i in range(10):\n",
    "    print(i)"
   ]
  },
  {
   "cell_type": "code",
   "execution_count": null,
   "id": "b866f30e-601e-4527-81b2-1310536864f6",
   "metadata": {},
   "outputs": [],
   "source": [
    "A while loop, on the other hand, is useful when you don't know the exact number of iterations you need to perform,\n",
    "or when the loop should continue until a certain condition is met. The loop will continue to execute as long as the condition is true.\n",
    "Here's an example of a while loop:"
   ]
  },
  {
   "cell_type": "code",
   "execution_count": 3,
   "id": "0d7e5f2c-05d5-4de4-86f5-3ea4815fa67c",
   "metadata": {},
   "outputs": [
    {
     "name": "stdout",
     "output_type": "stream",
     "text": [
      "0\n",
      "1\n",
      "2\n",
      "3\n",
      "4\n",
      "5\n",
      "6\n",
      "7\n",
      "8\n",
      "9\n"
     ]
    }
   ],
   "source": [
    "x = 0\n",
    "while x < 10:\n",
    "    print(x)\n",
    "    x += 1"
   ]
  },
  {
   "cell_type": "code",
   "execution_count": null,
   "id": "ce894984-ec55-48c7-b960-ea1b13a5ad15",
   "metadata": {},
   "outputs": [],
   "source": [
    "Q2. Write a python program to print the sum and product of the first 10 natural numbers using for\n",
    "and while loop."
   ]
  },
  {
   "cell_type": "code",
   "execution_count": 4,
   "id": "a69c897b-0bc7-4198-bc5e-d74ea93064bc",
   "metadata": {},
   "outputs": [
    {
     "name": "stdout",
     "output_type": "stream",
     "text": [
      "Sum of first 10 natural numbers: 55\n",
      "Product of first 10 natural numbers: 3628800\n"
     ]
    }
   ],
   "source": [
    "# Sum of first 10 natural numbers using for loop\n",
    "sum = 0\n",
    "product = 1\n",
    "\n",
    "for i in range(1, 11):\n",
    "    sum += i\n",
    "    product *= i\n",
    "\n",
    "print(\"Sum of first 10 natural numbers:\", sum)\n",
    "print(\"Product of first 10 natural numbers:\", product)"
   ]
  },
  {
   "cell_type": "code",
   "execution_count": 5,
   "id": "35a263f9-d4bd-4c16-a879-2288855750a7",
   "metadata": {},
   "outputs": [
    {
     "name": "stdout",
     "output_type": "stream",
     "text": [
      "Sum of first 10 natural numbers: 55\n",
      "Product of first 10 natural numbers: 3628800\n"
     ]
    }
   ],
   "source": [
    "# Sum of first 10 natural numbers using while loop\n",
    "sum = 0\n",
    "product = 1\n",
    "i = 1\n",
    "\n",
    "while i <= 10:\n",
    "    sum += i\n",
    "    product *= i\n",
    "    i += 1\n",
    "\n",
    "print(\"Sum of first 10 natural numbers:\", sum)\n",
    "print(\"Product of first 10 natural numbers:\", product)"
   ]
  },
  {
   "cell_type": "code",
   "execution_count": null,
   "id": "f3e61cc7-ed93-46f4-8a10-9448e86ce807",
   "metadata": {},
   "outputs": [],
   "source": [
    "Create a python program to compute the electricity bill for a household."
   ]
  },
  {
   "cell_type": "code",
   "execution_count": 6,
   "id": "c253856c-e4de-4cad-a964-5836c65f674e",
   "metadata": {},
   "outputs": [
    {
     "name": "stdin",
     "output_type": "stream",
     "text": [
      "Enter the number of units consumed:  310\n"
     ]
    },
    {
     "name": "stdout",
     "output_type": "stream",
     "text": [
      "Electricity bill: Rs. 2250.0\n"
     ]
    }
   ],
   "source": [
    "# take input from user\n",
    "units_consumed = int(input(\"Enter the number of units consumed: \"))\n",
    "\n",
    "# calculate the electricity bill\n",
    "if units_consumed <= 100:\n",
    "    bill_amount = units_consumed * 4.5\n",
    "elif units_consumed <= 200:\n",
    "    bill_amount = 100 * 4.5 + (units_consumed - 100) * 6\n",
    "elif units_consumed <= 300:\n",
    "    bill_amount = 100 * 4.5 + 100 * 6 + (units_consumed - 200) * 10\n",
    "else:\n",
    "    bill_amount = 100 * 4.5 + 100 * 6 + 100 * 10 + (units_consumed - 300) * 20\n",
    "\n",
    "# display the electricity bill\n",
    "print(\"Electricity bill: Rs.\", bill_amount)"
   ]
  },
  {
   "cell_type": "code",
   "execution_count": null,
   "id": "247bfa65-c265-4e26-82f3-65763fb8a693",
   "metadata": {},
   "outputs": [],
   "source": [
    "Q4. Create a list of numbers from 1 to 100. Use for loop and while loop to calculate the cube of each\n",
    "number and if the cube of that number is divisible by 4 or 5 then append that number in a list and print\n",
    "that list."
   ]
  },
  {
   "cell_type": "code",
   "execution_count": 7,
   "id": "3db21acd-cccc-4854-a3e4-e1ae9470ae3e",
   "metadata": {},
   "outputs": [
    {
     "name": "stdout",
     "output_type": "stream",
     "text": [
      "List of cubes divisible by 4 or 5 using for loop: [2, 4, 5, 6, 8, 10, 12, 14, 15, 16, 18, 20, 22, 24, 25, 26, 28, 30, 32, 34, 35, 36, 38, 40, 42, 44, 45, 46, 48, 50, 52, 54, 55, 56, 58, 60, 62, 64, 65, 66, 68, 70, 72, 74, 75, 76, 78, 80, 82, 84, 85, 86, 88, 90, 92, 94, 95, 96, 98, 100]\n"
     ]
    }
   ],
   "source": [
    "# create a list of numbers from 1 to 100\n",
    "numbers = list(range(1, 101))\n",
    "\n",
    "# create a new list to store the cubes of numbers divisible by 4 or 5\n",
    "cubes_divisible_by_4_or_5 = []\n",
    "\n",
    "# calculate the cube of each number using a for loop\n",
    "for num in numbers:\n",
    "    cube = num ** 3\n",
    "    if cube % 4 == 0 or cube % 5 == 0:\n",
    "        cubes_divisible_by_4_or_5.append(num)\n",
    "\n",
    "# print the list of cubes divisible by 4 or 5\n",
    "print(\"List of cubes divisible by 4 or 5 using for loop:\", cubes_divisible_by_4_or_5)"
   ]
  },
  {
   "cell_type": "code",
   "execution_count": 8,
   "id": "6a99b014-38f4-4132-9bfe-b86c14df0048",
   "metadata": {},
   "outputs": [
    {
     "name": "stdout",
     "output_type": "stream",
     "text": [
      "List of cubes divisible by 4 or 5 using while loop: [2, 4, 5, 6, 8, 10, 12, 14, 15, 16, 18, 20, 22, 24, 25, 26, 28, 30, 32, 34, 35, 36, 38, 40, 42, 44, 45, 46, 48, 50, 52, 54, 55, 56, 58, 60, 62, 64, 65, 66, 68, 70, 72, 74, 75, 76, 78, 80, 82, 84, 85, 86, 88, 90, 92, 94, 95, 96, 98, 100]\n"
     ]
    }
   ],
   "source": [
    "# create a list of numbers from 1 to 100\n",
    "numbers = list(range(1, 101))\n",
    "\n",
    "# create a new list to store the cubes of numbers divisible by 4 or 5\n",
    "cubes_divisible_by_4_or_5 = []\n",
    "\n",
    "# calculate the cube of each number using a while loop\n",
    "i = 0\n",
    "while i < len(numbers):\n",
    "    cube = numbers[i] ** 3\n",
    "    if cube % 4 == 0 or cube % 5 == 0:\n",
    "        cubes_divisible_by_4_or_5.append(numbers[i])\n",
    "    i += 1\n",
    "\n",
    "# print the list of cubes divisible by 4 or 5\n",
    "print(\"List of cubes divisible by 4 or 5 using while loop:\", cubes_divisible_by_4_or_5)"
   ]
  },
  {
   "cell_type": "code",
   "execution_count": null,
   "id": "9d41ccba-7952-4d24-938f-f5aa4279a97a",
   "metadata": {},
   "outputs": [],
   "source": [
    "Q5. Write a program to filter count vowels in the below-given string.\n",
    "string = \"I want to become a data scientist\""
   ]
  },
  {
   "cell_type": "code",
   "execution_count": null,
   "id": "19a4121f-9ab0-495f-8884-4394075167c0",
   "metadata": {},
   "outputs": [],
   "source": [
    "  v# define the string\n",
    "string = \"I want to become a data scientist\"\n",
    "\n",
    "# define a list of vowels\n",
    "vowels = ['a', 'e', 'i', 'o', 'u']\n",
    "\n",
    "# create a dictionary to store the vowel counts\n",
    "vowel_counts = {}\n",
    "\n",
    "# iterate over each character in the string\n",
    "for char in string:\n",
    "    # convert the character to lowercase\n",
    "    char = char.lower()\n",
    "    \n",
    "    # check if the character is a vowel\n",
    "    if char in vowels:\n",
    "        # add the vowel to the vowel_counts dictionary and increment the count\n",
    "        if char in vowel_counts:\n",
    "            vowel_counts[char] += 1\n",
    "        else:\n",
    "            vowel_counts[char] = 1\n",
    "\n",
    "# print the vowel counts\n",
    "for vowel, count in vowel_counts.items():\n",
    "    print(vowel, \":\", count)"
   ]
  }
 ],
 "metadata": {
  "kernelspec": {
   "display_name": "Python 3 (ipykernel)",
   "language": "python",
   "name": "python3"
  },
  "language_info": {
   "codemirror_mode": {
    "name": "ipython",
    "version": 3
   },
   "file_extension": ".py",
   "mimetype": "text/x-python",
   "name": "python",
   "nbconvert_exporter": "python",
   "pygments_lexer": "ipython3",
   "version": "3.10.8"
  }
 },
 "nbformat": 4,
 "nbformat_minor": 5
}
